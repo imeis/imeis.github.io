{
 "cells": [
  {
   "cell_type": "markdown",
   "metadata": {},
   "source": [
    "**AZURE IOT HUB**\n",
    "In this project, we use AZ3166 kit to connect to Azure hub. Data from the motion sensors in AZ3166 is sent to the hub and forwarded to power BI platform in a data stream analytics job. The aim is to use Machine Learning in Azure to detect anomalies. The project is in progress.\n",
    "<img src=\"iot_azure.png\" alt=\"Azure IOT Hub\">\n",
    "<img src=\"powerbi.png\" alt=\"Power BI\">"
   ]
  }
 ],
 "metadata": {
  "kernelspec": {
   "display_name": "Python 3",
   "language": "python",
   "name": "python3"
  },
  "language_info": {
   "codemirror_mode": {
    "name": "ipython",
    "version": 3
   },
   "file_extension": ".py",
   "mimetype": "text/x-python",
   "name": "python",
   "nbconvert_exporter": "python",
   "pygments_lexer": "ipython3",
   "version": "3.6.8"
  }
 },
 "nbformat": 4,
 "nbformat_minor": 2
}
